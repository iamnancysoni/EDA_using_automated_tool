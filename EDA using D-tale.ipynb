{
 "cells": [
  {
   "cell_type": "markdown",
   "id": "018a11fb",
   "metadata": {},
   "source": [
    "# EDA using D-tale"
   ]
  },
  {
   "cell_type": "code",
   "execution_count": 2,
   "id": "87e5543e",
   "metadata": {},
   "outputs": [],
   "source": [
    "#Importing dtale library\n",
    "import dtale"
   ]
  },
  {
   "cell_type": "code",
   "execution_count": 3,
   "id": "bef150cc",
   "metadata": {},
   "outputs": [],
   "source": [
    "#Read the data \n",
    "import pandas as pd\n",
    "df = pd.read_csv(\"Visadataset.csv\")"
   ]
  },
  {
   "cell_type": "code",
   "execution_count": 4,
   "id": "08f73477",
   "metadata": {},
   "outputs": [],
   "source": [
    "#showing the report\n",
    "d = dtale.show(df)\n",
    "\n",
    "#to open in browser\n",
    "d.open_browser()"
   ]
  },
  {
   "cell_type": "code",
   "execution_count": 5,
   "id": "56aed382",
   "metadata": {},
   "outputs": [
    {
     "data": {
      "text/html": [
       "\n",
       "        <iframe\n",
       "            width=\"100%\"\n",
       "            height=\"475\"\n",
       "            src=\"http://LAPTOP-TLBUKTHC:40000/dtale/iframe/1\"\n",
       "            frameborder=\"0\"\n",
       "            allowfullscreen\n",
       "            \n",
       "        ></iframe>\n",
       "        "
      ],
      "text/plain": [
       "<IPython.lib.display.IFrame at 0x1b6b2a4ed60>"
      ]
     },
     "metadata": {},
     "output_type": "display_data"
    },
    {
     "data": {
      "text/plain": []
     },
     "execution_count": 5,
     "metadata": {},
     "output_type": "execute_result"
    }
   ],
   "source": [
    "d"
   ]
  },
  {
   "cell_type": "code",
   "execution_count": null,
   "id": "1722a1a5",
   "metadata": {},
   "outputs": [],
   "source": []
  }
 ],
 "metadata": {
  "kernelspec": {
   "display_name": "Python 3 (ipykernel)",
   "language": "python",
   "name": "python3"
  },
  "language_info": {
   "codemirror_mode": {
    "name": "ipython",
    "version": 3
   },
   "file_extension": ".py",
   "mimetype": "text/x-python",
   "name": "python",
   "nbconvert_exporter": "python",
   "pygments_lexer": "ipython3",
   "version": "3.9.12"
  }
 },
 "nbformat": 4,
 "nbformat_minor": 5
}
